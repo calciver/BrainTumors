{
  "nbformat": 4,
  "nbformat_minor": 0,
  "metadata": {
    "colab": {
      "name": "Read DICOM Headers.ipynb",
      "provenance": [],
      "collapsed_sections": [],
      "authorship_tag": "ABX9TyOferRhRqpkdPvHJlPac+Ds",
      "include_colab_link": true
    },
    "kernelspec": {
      "name": "python3",
      "display_name": "Python 3"
    }
  },
  "cells": [
    {
      "cell_type": "markdown",
      "metadata": {
        "id": "view-in-github",
        "colab_type": "text"
      },
      "source": [
        "<a href=\"https://colab.research.google.com/github/calciver/NIfTI_Converter/blob/master/Read_DICOM_Headers.ipynb\" target=\"_parent\"><img src=\"https://colab.research.google.com/assets/colab-badge.svg\" alt=\"Open In Colab\"/></a>"
      ]
    },
    {
      "cell_type": "markdown",
      "metadata": {
        "id": "UC_mtX1ijCxW",
        "colab_type": "text"
      },
      "source": [
        "# Installs the necessary packages"
      ]
    },
    {
      "cell_type": "code",
      "metadata": {
        "id": "Tfe5IiYsh4y0",
        "colab_type": "code",
        "colab": {
          "base_uri": "https://localhost:8080/",
          "height": 104
        },
        "outputId": "736b3f63-a3d0-41c8-829b-818a3dfa1240"
      },
      "source": [
        "!pip install pydicom\n",
        "import pydicom"
      ],
      "execution_count": 1,
      "outputs": [
        {
          "output_type": "stream",
          "text": [
            "Collecting pydicom\n",
            "\u001b[?25l  Downloading https://files.pythonhosted.org/packages/fc/d5/da1fdf3b967e324ee47a7ad9553c9b94c1193b6b98afd9eeda0efb76b9f7/pydicom-1.3.0-py2.py3-none-any.whl (7.1MB)\n",
            "\u001b[K     |████████████████████████████████| 7.1MB 2.7MB/s \n",
            "\u001b[?25hInstalling collected packages: pydicom\n",
            "Successfully installed pydicom-1.3.0\n"
          ],
          "name": "stdout"
        }
      ]
    },
    {
      "cell_type": "markdown",
      "metadata": {
        "id": "be9b8jLHjHJZ",
        "colab_type": "text"
      },
      "source": [
        "# Uploads the file (or you could upload from the left pane)"
      ]
    },
    {
      "cell_type": "code",
      "metadata": {
        "id": "c1cayO0IjPib",
        "colab_type": "code",
        "colab": {
          "base_uri": "https://localhost:8080/",
          "height": 243
        },
        "outputId": "7682a85e-9be3-4ec3-eb87-eff121e9a46b"
      },
      "source": [
        "!wget -O ID_0a0a2d124.zip api.pcloud.com/getpubzip?code=XZvSKBkZR85r8sCR4pLkgBGq84s39JwDihpy\n",
        "!unzip /content/ID_0a0a2d124.zip"
      ],
      "execution_count": 2,
      "outputs": [
        {
          "output_type": "stream",
          "text": [
            "--2020-01-15 09:38:58--  http://api.pcloud.com/getpubzip?code=XZvSKBkZR85r8sCR4pLkgBGq84s39JwDihpy\n",
            "Resolving api.pcloud.com (api.pcloud.com)... 74.120.8.6, 74.120.9.121, 74.120.8.7, ...\n",
            "Connecting to api.pcloud.com (api.pcloud.com)|74.120.8.6|:80... connected.\n",
            "HTTP request sent, awaiting response... 200 OK\n",
            "Length: 525144 (513K) [application/zip]\n",
            "Saving to: ‘ID_0a0a2d124.zip’\n",
            "\n",
            "ID_0a0a2d124.zip    100%[===================>] 512.84K   323KB/s    in 1.6s    \n",
            "\n",
            "2020-01-15 09:39:00 (323 KB/s) - ‘ID_0a0a2d124.zip’ saved [525144/525144]\n",
            "\n",
            "Archive:  /content/ID_0a0a2d124.zip\n",
            " extracting: ID_0a0a2d124.dcm        \n"
          ],
          "name": "stdout"
        }
      ]
    },
    {
      "cell_type": "markdown",
      "metadata": {
        "id": "zaDO8hzbjMBx",
        "colab_type": "text"
      },
      "source": [
        "# Preview the file meta-data"
      ]
    },
    {
      "cell_type": "code",
      "metadata": {
        "id": "WZFUJdMBjLXQ",
        "colab_type": "code",
        "colab": {
          "base_uri": "https://localhost:8080/",
          "height": 399
        },
        "outputId": "fbce5a07-c7fc-484a-cd37-2e7085e97dc3"
      },
      "source": [
        "ds = pydicom.filereader.dcmread('/content/ID_0a0a2d124.dcm')\n",
        "print(ds)"
      ],
      "execution_count": 3,
      "outputs": [
        {
          "output_type": "stream",
          "text": [
            "(0008, 0018) SOP Instance UID                    UI: ID_0a0a2d124\n",
            "(0008, 0060) Modality                            CS: 'CT'\n",
            "(0010, 0020) Patient ID                          LO: 'ID_17b7d560'\n",
            "(0020, 000d) Study Instance UID                  UI: ID_0ab819aee4\n",
            "(0020, 000e) Series Instance UID                 UI: ID_7f170286aa\n",
            "(0020, 0010) Study ID                            SH: ''\n",
            "(0020, 0032) Image Position (Patient)            DS: ['-125.000000', '-136.899994', '105.309998']\n",
            "(0020, 0037) Image Orientation (Patient)         DS: ['1.000000', '0.000000', '0.000000', '0.000000', '1.000000', '0.000000']\n",
            "(0028, 0002) Samples per Pixel                   US: 1\n",
            "(0028, 0004) Photometric Interpretation          CS: 'MONOCHROME2'\n",
            "(0028, 0010) Rows                                US: 512\n",
            "(0028, 0011) Columns                             US: 512\n",
            "(0028, 0030) Pixel Spacing                       DS: ['0.488281', '0.488281']\n",
            "(0028, 0100) Bits Allocated                      US: 16\n",
            "(0028, 0101) Bits Stored                         US: 16\n",
            "(0028, 0102) High Bit                            US: 15\n",
            "(0028, 0103) Pixel Representation                US: 1\n",
            "(0028, 1050) Window Center                       DS: \"30\"\n",
            "(0028, 1051) Window Width                        DS: \"80\"\n",
            "(0028, 1052) Rescale Intercept                   DS: \"-1024\"\n",
            "(0028, 1053) Rescale Slope                       DS: \"1\"\n",
            "(7fe0, 0010) Pixel Data                          OW: Array of 524288 elements\n"
          ],
          "name": "stdout"
        }
      ]
    }
  ]
}