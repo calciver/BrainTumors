{
  "nbformat": 4,
  "nbformat_minor": 0,
  "metadata": {
    "colab": {
      "name": "TumorSim mha to nii.ipynb",
      "provenance": [],
      "toc_visible": true,
      "include_colab_link": true
    },
    "kernelspec": {
      "name": "python3",
      "display_name": "Python 3"
    },
    "accelerator": "GPU"
  },
  "cells": [
    {
      "cell_type": "markdown",
      "metadata": {
        "id": "view-in-github",
        "colab_type": "text"
      },
      "source": [
        "<a href=\"https://colab.research.google.com/github/calciver/BrainTumors/blob/master/TumorSim_mha_to_nii.ipynb\" target=\"_parent\"><img src=\"https://colab.research.google.com/assets/colab-badge.svg\" alt=\"Open In Colab\"/></a>"
      ]
    },
    {
      "cell_type": "markdown",
      "metadata": {
        "id": "uWgFT1CV45fT",
        "colab_type": "text"
      },
      "source": [
        "# Import the necessary libraries"
      ]
    },
    {
      "cell_type": "code",
      "metadata": {
        "id": "lrW_80I749iO",
        "colab_type": "code",
        "colab": {}
      },
      "source": [
        "!pip install -q SimpleITK\n",
        "!pip install -q patool\n",
        "import patoolib\n",
        "import SimpleITK as sitk\n",
        "import os"
      ],
      "execution_count": 0,
      "outputs": []
    },
    {
      "cell_type": "markdown",
      "metadata": {
        "id": "YIzcmbrq3QxK",
        "colab_type": "text"
      },
      "source": [
        "# Download the files"
      ]
    },
    {
      "cell_type": "code",
      "metadata": {
        "id": "z3K6omjA92Vg",
        "colab_type": "code",
        "outputId": "cb3a83c4-8117-43f8-b29d-8ecac16aa185",
        "colab": {
          "base_uri": "https://localhost:8080/",
          "height": 326
        }
      },
      "source": [
        "!wget -O BrainTumors.zip api.pcloud.com/getpubzip?code=kZvBEc7ZGyViV2c38ikU1aUh9jDBjH1oxG3X\n",
        "\n",
        "#Unzip the dataset  \n",
        "patoolib.extract_archive(\"BrainTumors.zip\")"
      ],
      "execution_count": 0,
      "outputs": [
        {
          "output_type": "stream",
          "text": [
            "--2019-09-12 07:49:40--  http://api.pcloud.com/getpubzip?code=kZvBEc7ZGyViV2c38ikU1aUh9jDBjH1oxG3X\n",
            "Resolving api.pcloud.com (api.pcloud.com)... 74.120.9.89, 74.120.8.13, 74.120.8.15, ...\n",
            "Connecting to api.pcloud.com (api.pcloud.com)|74.120.9.89|:80... connected.\n",
            "HTTP request sent, awaiting response... 200 OK\n",
            "Length: 522986130 (499M) [application/zip]\n",
            "Saving to: ‘BrainTumors.zip’\n",
            "\n",
            "BrainTumors.zip     100%[===================>] 498.76M  7.61MB/s    in 70s     \n",
            "\n",
            "2019-09-12 07:50:51 (7.08 MB/s) - ‘BrainTumors.zip’ saved [522986130/522986130]\n",
            "\n",
            "\u001b[K     |████████████████████████████████| 42.5MB 2.2MB/s \n",
            "\u001b[K     |████████████████████████████████| 81kB 3.1MB/s \n",
            "\u001b[?25hpatool: Extracting BrainTumors.zip ...\n",
            "patool: running /usr/bin/7z x -o./Unpack_4jb28l5a -- BrainTumors.zip\n",
            "patool: ... BrainTumors.zip extracted to `Others'.\n"
          ],
          "name": "stdout"
        },
        {
          "output_type": "execute_result",
          "data": {
            "text/plain": [
              "'Others'"
            ]
          },
          "metadata": {
            "tags": []
          },
          "execution_count": 1
        }
      ]
    },
    {
      "cell_type": "markdown",
      "metadata": {
        "id": "gQwcdo6YlvQ5",
        "colab_type": "text"
      },
      "source": [
        "# Convert the files from MetaImage (.mha) to NIfTI (.nii)"
      ]
    },
    {
      "cell_type": "code",
      "metadata": {
        "id": "9qKHJNxJFtiD",
        "colab_type": "code",
        "colab": {}
      },
      "source": [
        "mha_string = \"/content/Others\"\n",
        "nii_string = '/content/nii'\n",
        "\n",
        "mha_path = os.listdir(mha_string)\n",
        "os.mkdir(nii_string)\n",
        "nii_path = os.path.abspath(nii_string)\n",
        "\n",
        "# Function to convert multiple files \n",
        "for filename in mha_path: \n",
        "  if '.mha' in filename:\n",
        "    names = filename.split('.mha')    \n",
        "    img = sitk.ReadImage(mha_string + '/' + filename)\n",
        "    sitk.WriteImage(img,nii_string + '/' + names[0] + '.nii')"
      ],
      "execution_count": 0,
      "outputs": []
    },
    {
      "cell_type": "markdown",
      "metadata": {
        "id": "LRO95sEVWiJH",
        "colab_type": "text"
      },
      "source": [
        "# Upload .mha file and convert it to .nii"
      ]
    },
    {
      "cell_type": "code",
      "metadata": {
        "id": "OcDJFnRU-vOv",
        "colab_type": "code",
        "outputId": "0734cd42-0a66-4330-dca7-c3a1ac32c60c",
        "colab": {
          "base_uri": "https://localhost:8080/",
          "height": 34
        }
      },
      "source": [
        "!pip install -q SimpleITK\n",
        "import SimpleITK as sitk"
      ],
      "execution_count": 0,
      "outputs": [
        {
          "output_type": "stream",
          "text": [
            "\u001b[K     |████████████████████████████████| 42.5MB 1.3MB/s \n",
            "\u001b[?25h"
          ],
          "name": "stdout"
        }
      ]
    },
    {
      "cell_type": "code",
      "metadata": {
        "id": "rBKuc7jAc5UG",
        "colab_type": "code",
        "colab": {}
      },
      "source": [
        "img = sitk.ReadImage('/content/SimTumor00T_T1.mha')\n",
        "sitk.WriteImage(img,'/content/SimTumor00T_T1.nii')"
      ],
      "execution_count": 0,
      "outputs": []
    }
  ]
}