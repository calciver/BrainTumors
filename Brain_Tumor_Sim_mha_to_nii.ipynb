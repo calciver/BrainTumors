{
  "nbformat": 4,
  "nbformat_minor": 0,
  "metadata": {
    "colab": {
      "name": "Brain Tumor Sim mha to nii.ipynb",
      "version": "0.3.2",
      "provenance": [],
      "toc_visible": true,
      "include_colab_link": true
    },
    "kernelspec": {
      "name": "python3",
      "display_name": "Python 3"
    },
    "accelerator": "GPU"
  },
  "cells": [
    {
      "cell_type": "markdown",
      "metadata": {
        "id": "view-in-github",
        "colab_type": "text"
      },
      "source": [
        "<a href=\"https://colab.research.google.com/github/calciver/BrainTumors/blob/master/Brain_Tumor_Sim_mha_to_nii.ipynb\" target=\"_parent\"><img src=\"https://colab.research.google.com/assets/colab-badge.svg\" alt=\"Open In Colab\"/></a>"
      ]
    },
    {
      "cell_type": "markdown",
      "metadata": {
        "id": "YIzcmbrq3QxK",
        "colab_type": "text"
      },
      "source": [
        "# Import the necessary libraries and Download the files"
      ]
    },
    {
      "cell_type": "code",
      "metadata": {
        "id": "z3K6omjA92Vg",
        "colab_type": "code",
        "colab": {}
      },
      "source": [
        "!wget -O BrainTumors.zip api.pcloud.com/getpubzip?code=kZ4Brc7Z9xePgLCxVrSYRPGc3VTU20m7jtxy\n",
        "!pip install -q SimpleITK\n",
        "!pip install -q patool\n",
        "import patoolib\n",
        "import SimpleITK as sitk\n",
        "import os\n",
        "\n",
        "#Unzip the dataset  \n",
        "patoolib.extract_archive(\"BrainTumors.zip\")"
      ],
      "execution_count": 0,
      "outputs": []
    },
    {
      "cell_type": "markdown",
      "metadata": {
        "id": "gQwcdo6YlvQ5",
        "colab_type": "text"
      },
      "source": [
        "# Convert the files from MetaImage (.mha) to NIfTI (.nii)"
      ]
    },
    {
      "cell_type": "code",
      "metadata": {
        "id": "9qKHJNxJFtiD",
        "colab_type": "code",
        "colab": {}
      },
      "source": [
        "mha_string = \"/content/Output00T\"\n",
        "nii_string = '/content/nii'\n",
        "\n",
        "mha_path = os.listdir(mha_string)\n",
        "os.mkdir(nii_string)\n",
        "nii_path = os.path.abspath(nii_string)\n",
        "\n",
        "# Function to convert multiple files \n",
        "for filename in mha_path: \n",
        "  if '.mha' in filename:\n",
        "    names = filename.split('.mha')    \n",
        "    img = sitk.ReadImage(mha_string + '/' + filename)\n",
        "    sitk.WriteImage(img,nii_string + '/' + names[0] + '.nii')"
      ],
      "execution_count": 0,
      "outputs": []
    }
  ]
}