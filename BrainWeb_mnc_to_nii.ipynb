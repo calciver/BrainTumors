{
  "nbformat": 4,
  "nbformat_minor": 0,
  "metadata": {
    "colab": {
      "name": "BrainWeb mnc to nii.ipynb",
      "provenance": [],
      "toc_visible": true,
      "include_colab_link": true
    },
    "kernelspec": {
      "name": "python3",
      "display_name": "Python 3"
    }
  },
  "cells": [
    {
      "cell_type": "markdown",
      "metadata": {
        "id": "view-in-github",
        "colab_type": "text"
      },
      "source": [
        "<a href=\"https://colab.research.google.com/github/calciver/BrainTumors/blob/master/BrainWeb_mnc_to_nii.ipynb\" target=\"_parent\"><img src=\"https://colab.research.google.com/assets/colab-badge.svg\" alt=\"Open In Colab\"/></a>"
      ]
    },
    {
      "cell_type": "markdown",
      "metadata": {
        "id": "K0Q0RRM7MXRL",
        "colab_type": "text"
      },
      "source": [
        "# Install and import the necessary libraries"
      ]
    },
    {
      "cell_type": "code",
      "metadata": {
        "id": "RCJuafqiMZd1",
        "colab_type": "code",
        "outputId": "9f4b0df9-0531-432d-9188-2fb14d5b7790",
        "colab": {
          "base_uri": "https://localhost:8080/",
          "height": 34
        }
      },
      "source": [
        "!pip install -q patool\n",
        "!pip install -q nibabel\n",
        "import patoolib\n",
        "import os\n",
        "import numpy as np\n",
        "from nibabel import load, save, Nifti1Image"
      ],
      "execution_count": 0,
      "outputs": [
        {
          "output_type": "stream",
          "text": [
            "\u001b[?25l\r\u001b[K     |████▎                           | 10kB 19.3MB/s eta 0:00:01\r\u001b[K     |████████▌                       | 20kB 2.3MB/s eta 0:00:01\r\u001b[K     |████████████▊                   | 30kB 3.3MB/s eta 0:00:01\r\u001b[K     |█████████████████               | 40kB 2.1MB/s eta 0:00:01\r\u001b[K     |█████████████████████▏          | 51kB 2.6MB/s eta 0:00:01\r\u001b[K     |█████████████████████████▍      | 61kB 3.1MB/s eta 0:00:01\r\u001b[K     |█████████████████████████████▋  | 71kB 3.6MB/s eta 0:00:01\r\u001b[K     |████████████████████████████████| 81kB 3.8MB/s \n",
            "\u001b[?25h"
          ],
          "name": "stdout"
        }
      ]
    },
    {
      "cell_type": "markdown",
      "metadata": {
        "id": "PYyqzaS_Ly5w",
        "colab_type": "text"
      },
      "source": [
        "# Download the .ima files"
      ]
    },
    {
      "cell_type": "code",
      "metadata": {
        "id": "Vk_GvfJoM4X7",
        "colab_type": "code",
        "outputId": "f0e32cdd-8ea0-4def-c4c1-bff49e3c335e",
        "colab": {
          "base_uri": "https://localhost:8080/",
          "height": 204
        }
      },
      "source": [
        "!wget -O subject_4.zip api.pcloud.com/getpubzip?code=kZDIhFkZYjNe0LnAza5lccFtBqGnRJYENcrk"
      ],
      "execution_count": 0,
      "outputs": [
        {
          "output_type": "stream",
          "text": [
            "--2019-09-12 02:03:54--  http://api.pcloud.com/getpubzip?code=kZDIhFkZYjNe0LnAza5lccFtBqGnRJYENcrk\n",
            "Resolving api.pcloud.com (api.pcloud.com)... 74.120.8.15, 74.120.9.90, 74.120.9.121, ...\n",
            "Connecting to api.pcloud.com (api.pcloud.com)|74.120.8.15|:80... connected.\n",
            "HTTP request sent, awaiting response... 200 OK\n",
            "Length: 69005010 (66M) [application/zip]\n",
            "Saving to: ‘subject_4.zip’\n",
            "\n",
            "subject_4.zip       100%[===================>]  65.81M  16.3MB/s    in 4.6s    \n",
            "\n",
            "2019-09-12 02:03:59 (14.2 MB/s) - ‘subject_4.zip’ saved [69005010/69005010]\n",
            "\n"
          ],
          "name": "stdout"
        }
      ]
    },
    {
      "cell_type": "markdown",
      "metadata": {
        "id": "iQTc6TGVMk6N",
        "colab_type": "text"
      },
      "source": [
        "# Extract the files"
      ]
    },
    {
      "cell_type": "code",
      "metadata": {
        "id": "W6zuv6VrMmex",
        "colab_type": "code",
        "outputId": "c46c8299-0e6c-41ab-d446-a17b8c485ba0",
        "colab": {
          "base_uri": "https://localhost:8080/",
          "height": 85
        }
      },
      "source": [
        "patoolib.extract_archive(\"subject_4.zip\")\n",
        "#patoolib.extract_archive(\"BrainWeb_gz\")"
      ],
      "execution_count": 0,
      "outputs": [
        {
          "output_type": "stream",
          "text": [
            "patool: Extracting subject_4.zip ...\n",
            "patool: running /usr/bin/7z x -o./Unpack_shlj6s67 -- subject_4.zip\n",
            "patool: ... subject_4.zip extracted to `BrainWeb_gz'.\n"
          ],
          "name": "stdout"
        },
        {
          "output_type": "execute_result",
          "data": {
            "text/plain": [
              "'BrainWeb_gz'"
            ]
          },
          "metadata": {
            "tags": []
          },
          "execution_count": 5
        }
      ]
    },
    {
      "cell_type": "markdown",
      "metadata": {
        "id": "os96aGX4N3Ig",
        "colab_type": "text"
      },
      "source": [
        "# Convert every file into .nii format"
      ]
    },
    {
      "cell_type": "code",
      "metadata": {
        "id": "4oNqai3yN9Za",
        "colab_type": "code",
        "colab": {}
      },
      "source": [
        "for brain_part in os.listdir('/content/BrainWeb_gz'):  \n",
        "  minc = load(\"/content/BrainWeb_gz/\"+brain_part)\n",
        "  basename = minc.get_filename().split(os.extsep, 1)[0]\n",
        "  affine = np.array([[0, 0, 1, 0],\n",
        "                     [0, 1, 0, 0],\n",
        "                     [1, 0, 0, 0],\n",
        "                     [0, 0, 0, 1]])\n",
        "  out = Nifti1Image(minc.get_data(), affine=affine)\n",
        "  save(out, basename + '.nii.gz')\n",
        "  "
      ],
      "execution_count": 0,
      "outputs": []
    },
    {
      "cell_type": "markdown",
      "metadata": {
        "id": "9Ija4JRTDpY_",
        "colab_type": "text"
      },
      "source": [
        "# Convert 1 file into the .nii format"
      ]
    },
    {
      "cell_type": "code",
      "metadata": {
        "id": "XFWkp3VTDnR6",
        "colab_type": "code",
        "colab": {}
      },
      "source": [
        "minc = load(\"/content/subject18_t1w_p4.mnc.gz\")\n",
        "basename = minc.get_filename().split(os.extsep, 1)[0]\n",
        "affine = np.array([[0, 0, 1, 0],\n",
        "                   [0, 1, 0, 0],\n",
        "                   [1, 0, 0, 0],\n",
        "                   [0, 0, 0, 1]])\n",
        "out = Nifti1Image(minc.get_data(), affine=affine)\n",
        "save(out, basename + '.nii.gz')"
      ],
      "execution_count": 0,
      "outputs": []
    }
  ]
}